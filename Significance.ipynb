{
 "cells": [
  {
   "cell_type": "code",
   "execution_count": 8,
   "metadata": {},
   "outputs": [],
   "source": [
    "import numpy as np\n",
    "import pandas as pd\n",
    "from scipy.stats import t"
   ]
  },
  {
   "cell_type": "code",
   "execution_count": 9,
   "metadata": {},
   "outputs": [],
   "source": [
    "def significance(m1, m2, e1, e2, n):\n",
    "    denom = np.sqrt(e1**2 + e2**2)\n",
    "    num = m1 - m2\n",
    "    T = num/denom\n",
    "    df_num = denom**4\n",
    "    df_denom = (1/(n-1))*e1**4 + (1/(n-1))*e2**4\n",
    "    df = df_num/df_denom\n",
    "    return t.pdf(T, df)\n",
    "\n",
    "def sig_all(m, e, n):\n",
    "    out = []\n",
    "    for i in range(1, len(m)):\n",
    "        out.append(round(significance(m[0], m[i], e[0], e[i], n), 2))\n",
    "    return out\n",
    "\n",
    "def merge(vecs, names, models):\n",
    "    out = np.array(vecs)\n",
    "    out = pd.DataFrame(out)\n",
    "    out.index = names\n",
    "    out.columns = models\n",
    "    return out.T"
   ]
  },
  {
   "cell_type": "markdown",
   "metadata": {},
   "source": [
    "## GPU"
   ]
  },
  {
   "cell_type": "code",
   "execution_count": 10,
   "metadata": {},
   "outputs": [
    {
     "data": {
      "text/plain": [
       "[0.0, 0.0, 0.0, 0.0, 0.0, 0.0, 0.0, 0.0, 0.0]"
      ]
     },
     "execution_count": 10,
     "metadata": {},
     "output_type": "execute_result"
    }
   ],
   "source": [
    "c = sig_all([11335.85, 30829.11, 24186.4, 14595.98, 79999.09, 80091.85, 79999.05, 31136.93, 30923.64, 32043.23], \n",
    "            [241.94, 717.13, 545.52, 307.11, 1504.75, 1526.05, 1504.76, 737.47, 727.99, 676.1], 60400); c"
   ]
  },
  {
   "cell_type": "markdown",
   "metadata": {},
   "source": [
    "## Year"
   ]
  },
  {
   "cell_type": "code",
   "execution_count": 11,
   "metadata": {},
   "outputs": [
    {
     "data": {
      "text/plain": [
       "[0.0, 0.0, 0.0, 0.0, 0.0, 0.0, 0.0, 0.0, 0.0]"
      ]
     },
     "execution_count": 11,
     "metadata": {},
     "output_type": "execute_result"
    }
   ],
   "source": [
    "b = sig_all([82.99, 87.66, 87.64, 1596.2, 92.03, 92.61, 92.03, 92.83, 92.6, 87.49], \n",
    "            [0.57, 0.57, 0.59, 10.88, 0.62, 0.62, 0.62, 0.59, 0.59, 0.6], 15505); b"
   ]
  },
  {
   "cell_type": "markdown",
   "metadata": {},
   "source": [
    "## Blog"
   ]
  },
  {
   "cell_type": "code",
   "execution_count": 12,
   "metadata": {},
   "outputs": [
    {
     "data": {
      "text/plain": [
       "[0.34, 0.4, 0.17, 0.01, 0.01, 0.01, 0.31, 0.35, 0.39]"
      ]
     },
     "execution_count": 12,
     "metadata": {},
     "output_type": "execute_result"
    }
   ],
   "source": [
    "d = sig_all([540.68, 593.74, 537.66, 676.79, 878.88, 877.11, 877.92, 619.04, 585.22, 557.28], \n",
    "            [63.87, 73.19, 63.31, 81.0, 109.42, 108.11, 109.47, 88.49, 64.88, 63.88], 128836); d"
   ]
  },
  {
   "cell_type": "markdown",
   "metadata": {},
   "source": [
    "## Superconductivity"
   ]
  },
  {
   "cell_type": "code",
   "execution_count": 13,
   "metadata": {},
   "outputs": [
    {
     "data": {
      "text/plain": [
       "[0.39, 0.4, 0.0, 0.0, 0.0, 0.0, 0.27, 0.33, 0.0]"
      ]
     },
     "execution_count": 13,
     "metadata": {},
     "output_type": "execute_result"
    }
   ],
   "source": [
    "a = sig_all([98.60, 99.79, 99.05, 274.93, 308.65, 475.6, 309.17, 105.14, 103.02, 161.48], \n",
    "            [4.75, 4.95, 4.78, 7.20, 13.41, 17.08, 13.42, 5.68, 5.59, 8.74], 5315); a"
   ]
  },
  {
   "cell_type": "code",
   "execution_count": 14,
   "metadata": {},
   "outputs": [
    {
     "data": {
      "text/html": [
       "<div>\n",
       "<style scoped>\n",
       "    .dataframe tbody tr th:only-of-type {\n",
       "        vertical-align: middle;\n",
       "    }\n",
       "\n",
       "    .dataframe tbody tr th {\n",
       "        vertical-align: top;\n",
       "    }\n",
       "\n",
       "    .dataframe thead th {\n",
       "        text-align: right;\n",
       "    }\n",
       "</style>\n",
       "<table border=\"1\" class=\"dataframe\">\n",
       "  <thead>\n",
       "    <tr style=\"text-align: right;\">\n",
       "      <th></th>\n",
       "      <th>GPU</th>\n",
       "      <th>Year</th>\n",
       "      <th>Blog</th>\n",
       "      <th>Superconductivity</th>\n",
       "    </tr>\n",
       "  </thead>\n",
       "  <tbody>\n",
       "    <tr>\n",
       "      <th>Breiman’s stacking</th>\n",
       "      <td>0.0</td>\n",
       "      <td>0.0</td>\n",
       "      <td>0.34</td>\n",
       "      <td>0.39</td>\n",
       "    </tr>\n",
       "    <tr>\n",
       "      <th>Meta-regression neural net</th>\n",
       "      <td>0.0</td>\n",
       "      <td>0.0</td>\n",
       "      <td>0.40</td>\n",
       "      <td>0.40</td>\n",
       "    </tr>\n",
       "    <tr>\n",
       "      <th>Direct neural net</th>\n",
       "      <td>0.0</td>\n",
       "      <td>0.0</td>\n",
       "      <td>0.17</td>\n",
       "      <td>0.00</td>\n",
       "    </tr>\n",
       "    <tr>\n",
       "      <th>Least squares</th>\n",
       "      <td>0.0</td>\n",
       "      <td>0.0</td>\n",
       "      <td>0.01</td>\n",
       "      <td>0.00</td>\n",
       "    </tr>\n",
       "    <tr>\n",
       "      <th>Lasso</th>\n",
       "      <td>0.0</td>\n",
       "      <td>0.0</td>\n",
       "      <td>0.01</td>\n",
       "      <td>0.00</td>\n",
       "    </tr>\n",
       "    <tr>\n",
       "      <th>Ridge</th>\n",
       "      <td>0.0</td>\n",
       "      <td>0.0</td>\n",
       "      <td>0.01</td>\n",
       "      <td>0.00</td>\n",
       "    </tr>\n",
       "    <tr>\n",
       "      <th>Bagging</th>\n",
       "      <td>0.0</td>\n",
       "      <td>0.0</td>\n",
       "      <td>0.31</td>\n",
       "      <td>0.27</td>\n",
       "    </tr>\n",
       "    <tr>\n",
       "      <th>Random forest</th>\n",
       "      <td>0.0</td>\n",
       "      <td>0.0</td>\n",
       "      <td>0.35</td>\n",
       "      <td>0.33</td>\n",
       "    </tr>\n",
       "    <tr>\n",
       "      <th>Gradient boosting</th>\n",
       "      <td>0.0</td>\n",
       "      <td>0.0</td>\n",
       "      <td>0.39</td>\n",
       "      <td>0.00</td>\n",
       "    </tr>\n",
       "  </tbody>\n",
       "</table>\n",
       "</div>"
      ],
      "text/plain": [
       "                            GPU  Year  Blog  Superconductivity\n",
       "Breiman’s stacking          0.0   0.0  0.34               0.39\n",
       "Meta-regression neural net  0.0   0.0  0.40               0.40\n",
       "Direct neural net           0.0   0.0  0.17               0.00\n",
       "Least squares               0.0   0.0  0.01               0.00\n",
       "Lasso                       0.0   0.0  0.01               0.00\n",
       "Ridge                       0.0   0.0  0.01               0.00\n",
       "Bagging                     0.0   0.0  0.31               0.27\n",
       "Random forest               0.0   0.0  0.35               0.33\n",
       "Gradient boosting           0.0   0.0  0.39               0.00"
      ]
     },
     "execution_count": 14,
     "metadata": {},
     "output_type": "execute_result"
    }
   ],
   "source": [
    "names = ['GPU', 'Year', 'Blog', 'Superconductivity']\n",
    "models = ['Breiman’s stacking', 'Meta-regression neural net', 'Direct neural net', 'Least squares', 'Lasso', 'Ridge', 'Bagging', 'Random forest', 'Gradient boosting']\n",
    "merge([c,b,d,a], names, models)"
   ]
  }
 ],
 "metadata": {
  "kernelspec": {
   "display_name": "Python 3",
   "language": "python",
   "name": "python3"
  },
  "language_info": {
   "codemirror_mode": {
    "name": "ipython",
    "version": 3
   },
   "file_extension": ".py",
   "mimetype": "text/x-python",
   "name": "python",
   "nbconvert_exporter": "python",
   "pygments_lexer": "ipython3",
   "version": "3.6.9"
  }
 },
 "nbformat": 4,
 "nbformat_minor": 4
}
